{
 "cells": [
  {
   "cell_type": "markdown",
   "metadata": {},
   "source": [
    "# моя перша програма\n",
    "\n",
    "\n"
   ]
  },
  {
   "cell_type": "code",
   "execution_count": 8,
   "metadata": {},
   "outputs": [
    {
     "name": "stdout",
     "output_type": "stream",
     "text": [
      "Alina start programming at 2024-09-21 15:09:40.058523. Kernytsia is the best village!\n"
     ]
    }
   ],
   "source": [
    "from datetime import datetime\n",
    "name = \"Alina\"\n",
    "location = \"Kernytsia\"\n",
    "\n",
    "print(f\"{name} start programming at {datetime.now()}. {location} is the best village!\")\n"
   ]
  },
  {
   "cell_type": "markdown",
   "metadata": {},
   "source": [
    "## Чат джпт вирішив , що хелоу ворлд буде найкращою програмою для новачка"
   ]
  },
  {
   "cell_type": "code",
   "execution_count": 9,
   "metadata": {},
   "outputs": [
    {
     "name": "stdout",
     "output_type": "stream",
     "text": [
      "Привіт, світ!\n"
     ]
    }
   ],
   "source": [
    "print(\"Привіт, світ!\")"
   ]
  }
 ],
 "metadata": {
  "kernelspec": {
   "display_name": "Python 3",
   "language": "python",
   "name": "python3"
  },
  "language_info": {
   "codemirror_mode": {
    "name": "ipython",
    "version": 3
   },
   "file_extension": ".py",
   "mimetype": "text/x-python",
   "name": "python",
   "nbconvert_exporter": "python",
   "pygments_lexer": "ipython3",
   "version": "3.11.9"
  }
 },
 "nbformat": 4,
 "nbformat_minor": 2
}
