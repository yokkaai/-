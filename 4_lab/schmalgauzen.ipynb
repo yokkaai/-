{
 "cells": [
  {
   "cell_type": "markdown",
   "metadata": {},
   "source": [
    "# Структуровані масиви даних"
   ]
  },
  {
   "cell_type": "code",
   "execution_count": 1,
   "metadata": {},
   "outputs": [],
   "source": [
    "def homework(message):\n",
    "    print(\"\\n>>>>>\", message, \"\\n\")\n",
    "import numpy as np"
   ]
  },
  {
   "cell_type": "markdown",
   "metadata": {},
   "source": [
    "\n",
    "# Визначення однорідного масиву"
   ]
  },
  {
   "cell_type": "code",
   "execution_count": 3,
   "metadata": {},
   "outputs": [
    {
     "name": "stdout",
     "output_type": "stream",
     "text": [
      "Отриманий масив має вигляд:\n",
      "array([[ 3,  8,  9],\n",
      "       [ 1, -7,  0],\n",
      "       [ 4, 12,  4]], dtype=int8)\n",
      "Отриманий масив має вигляд:\n",
      "array([[ 3.4,  8.7,  9.9],\n",
      "       [ 1.1, -7.8, -0.7],\n",
      "       [ 4.1, 12.3,  4.8]], dtype=float16)\n"
     ]
    }
   ],
   "source": [
    "lst = [ [3.4, 8.7, 9.9], \n",
    "        [1.1, -7.8, -0.7],\n",
    "        [4.1, 12.3, 4.8] ]\n",
    "\n",
    "# Масив із цілими числами (int8)\n",
    "A = np.array(lst, dtype=np.int8)\n",
    "print(f\"Отриманий масив має вигляд:\\n{repr(A)}\")\n",
    "\n",
    "# Масив із числами у форматі float16\n",
    "B = np.array(lst, dtype=np.float16)\n",
    "print(f\"Отриманий масив має вигляд:\\n{repr(B)}\")\n"
   ]
  },
  {
   "cell_type": "markdown",
   "metadata": {},
   "source": [
    "# Задаємо свій тип даних"
   ]
  },
  {
   "cell_type": "code",
   "execution_count": 6,
   "metadata": {},
   "outputs": [
    {
     "name": "stdout",
     "output_type": "stream",
     "text": [
      "Отриманий масив має вигляд:\n",
      "[('Bohdan', 4) ('Marta', 5) ('Noname', 0)]\n",
      "Доступитись до певної колонки тепер можна за її іменем: [4 5 0]\n",
      "Імена всіх студентів у масиві: ['Bohdan' 'Marta' 'Noname']\n"
     ]
    }
   ],
   "source": [
    "import numpy as np\n",
    "\n",
    "# Описуємо спеціальний тип даних із полями:\n",
    "# 'name' — рядок довжиною до 20 символів, \n",
    "# 'mark' — цілі числа (int8).\n",
    "dt = np.dtype([('name', 'U20'), ('mark', np.int8)])  # 'U20' — рядок довжиною до 20 символів.\n",
    "\n",
    "# Створюємо список даних у форматі кортежів\n",
    "arr = [\n",
    "    (\"Bohdan\", 4),  # Перший студент із оцінкою 4\n",
    "    (\"Marta\", 5),   # Другий студент із оцінкою 5\n",
    "    (\"Noname\", 0)   # Третій студент із оцінкою 0\n",
    "]\n",
    "\n",
    "# Перетворення списку на структурований масив\n",
    "C = np.array(arr, dtype=dt)\n",
    "\n",
    "# Вивід масиву\n",
    "print(f\"Отриманий масив має вигляд:\\n{C}\")\n",
    "\n",
    "# Доступ до окремої колонки 'mark'\n",
    "print(f\"Доступитись до певної колонки тепер можна за її іменем: {C['mark']}\")\n",
    "\n",
    "# Вивід усіх імен\n",
    "print(f\"Імена всіх студентів у масиві: {C['name']}\")\n"
   ]
  },
  {
   "cell_type": "markdown",
   "metadata": {},
   "source": [
    "# Запис та зчитування з файлу, формат CSV"
   ]
  },
  {
   "cell_type": "code",
   "execution_count": 11,
   "metadata": {},
   "outputs": [
    {
     "name": "stdout",
     "output_type": "stream",
     "text": [
      "Вихідний масив: \n",
      "[('LeeKnow', 1, 'GroupA') ('Cristopher', 6, 'GroupB')\n",
      " ('Chanbin', 4, 'GroupC')]\n",
      "Оновлений масив після додавання вашого імені: \n",
      "[('LeeKnow',  1, 'GroupA') ('Cristopher',  6, 'GroupB')\n",
      " ('Chanbin',  4, 'GroupC') ('MyName', 10, 'MyGroup')]\n",
      "Записуємо оновлений масив у CSV файл temp_with_group.csv.\n",
      "Перевіряємо чи файл temp_with_group.csv створився: ['Chill', 'README.md', 'schmalgauzen.ipynb', 'temp_with_group.csv']\n",
      "Зчитані дані з файлу:\n",
      "[('LeeKnow',  1, 'GroupA') ('Cristopher',  6, 'GroupB')\n",
      " ('Chanbin',  4, 'GroupC') ('MyName', 10, 'MyGroup')]\n",
      "Ваші дані у масиві: [('MyName', 10, 'MyGroup')]\n",
      "Ваше ім'я: MyName\n"
     ]
    }
   ],
   "source": [
    "import numpy as np\n",
    "import os\n",
    "\n",
    "# Створюємо структуру масиву з додатковим полем 'group'\n",
    "dt = np.dtype([('name', 'U20'), ('mark', np.int8), ('group', 'U10')])\n",
    "\n",
    "# Початкові дані\n",
    "arr = [\n",
    "    (\"LeeKnow\", 1, \"GroupA\"),  # Перший студент\n",
    "    (\"Cristopher\", 6, \"GroupB\"),  # Другий студент\n",
    "    (\"Chanbin\", 4, \"GroupC\")  # Третій студент\n",
    "]\n",
    "\n",
    "# Перетворення в масив NumPy\n",
    "C = np.array(arr, dtype=dt)\n",
    "print(f\"Вихідний масив: \\n{C}\")\n",
    "\n",
    "# Додаємо власне ім'я до масиву\n",
    "my_data = np.array([(\"MyName\", 10, \"MyGroup\")], dtype=dt)\n",
    "C = np.append(C, my_data)\n",
    "print(f\"Оновлений масив після додавання вашого імені: \\n{C}\")\n",
    "\n",
    "# Збереження в файл\n",
    "filename = \"temp_with_group.csv\"\n",
    "print(f\"Записуємо оновлений масив у CSV файл {filename}.\")\n",
    "np.savetxt(filename, C, fmt=\"%s,%d,%s\", header=\"name,mark,group\", delimiter=\",\")\n",
    "\n",
    "# Перевіряємо чи файл створився\n",
    "print(f\"Перевіряємо чи файл {filename} створився: {os.listdir()}\")\n",
    "\n",
    "# Зчитування файлу за допомогою NumPy\n",
    "D = np.genfromtxt(filename, dtype=dt, delimiter=\",\", skip_header=1)\n",
    "print(f\"Зчитані дані з файлу:\\n{D}\")\n",
    "\n",
    "# Доступ до свого імені\n",
    "my_name_data = D[D['name'] == \"MyName\"]\n",
    "if my_name_data.size > 0:\n",
    "    print(f\"Ваші дані у масиві: {my_name_data}\")\n",
    "    print(f\"Ваше ім'я: {my_name_data['name'][0]}\")\n",
    "else:\n",
    "    print(\"Ваші дані не знайдено в масиві.\")\n",
    "\n"
   ]
  },
  {
   "cell_type": "markdown",
   "metadata": {},
   "source": [
    "# Операції над масивами"
   ]
  },
  {
   "cell_type": "code",
   "execution_count": 21,
   "metadata": {},
   "outputs": [
    {
     "name": "stdout",
     "output_type": "stream",
     "text": [
      "\n",
      "Віднімання (C - (O + 10)):\n",
      "[[-11. -10.  -9.]\n",
      " [-11. -10.  -9.]\n",
      " [-11. -10.  -9.]]\n",
      "\n",
      "\n",
      "Множення (O * R):\n",
      "[[0.04004969 0.1121776  0.79270982]\n",
      " [0.31817211 0.34302242 0.32371237]\n",
      " [0.75747633 0.51095071 0.8736428 ]]\n",
      "\n",
      "\n",
      "Ділення (R / C):\n",
      "[[0.         0.1121776  0.39635491]\n",
      " [0.         0.34302242 0.16185619]\n",
      " [0.         0.51095071 0.4368214 ]]\n",
      "\n",
      "\n",
      "Степінь (C ** Z):\n",
      "[[1. 1. 1.]\n",
      " [1. 1. 1.]\n",
      " [1. 1. 1.]]\n",
      "\n",
      "\n",
      "Порівняння (R > 0.5):\n",
      "[[False False  True]\n",
      " [False False False]\n",
      " [ True  True  True]]\n",
      "\n",
      "\n",
      "Ділення на 0 (O / Z):\n",
      "[[0. 0. 0.]\n",
      " [0. 0. 0.]\n",
      " [0. 0. 0.]]\n",
      "\n",
      "\n",
      "Матриця eye:\n",
      "[[1. 0. 0.]\n",
      " [0. 1. 0.]\n",
      " [0. 0. 1.]]\n",
      "Чи є елементи рівними 1:\n",
      "[[ True False False]\n",
      " [False  True False]\n",
      " [False False  True]]\n",
      "Матриця ones:\n",
      "[[1. 1. 1.]\n",
      " [1. 1. 1.]\n",
      " [1. 1. 1.]]\n",
      "Результат (ones - eye):\n",
      "[[0. 1. 1.]\n",
      " [1. 0. 1.]\n",
      " [1. 1. 0.]]\n",
      "Як бачимо, центральна діагональ має нулі.\n"
     ]
    }
   ],
   "source": [
    "\n",
    "\n",
    "l = (3, 3)\n",
    "\n",
    "# Створюємо різні матриці\n",
    "O = np.ones(l)  # Матриця, заповнена 1\n",
    "R = np.random.random(l)  # Матриця зі випадковими числами [0, 1)\n",
    "Z = np.zeros(l)  # Матриця, заповнена 0\n",
    "C = np.arange(l[0])  # Одновимірний масив: [0, 1, 2]\n",
    "\n",
    "print(f\"\"\"\n",
    "Віднімання (C - (O + 10)):\n",
    "{C - (O + 10)}\n",
    "\n",
    "\n",
    "Множення (O * R):\n",
    "{O * R}\n",
    "\n",
    "\n",
    "Ділення (R / C):\n",
    "{np.divide(R, C, out=np.zeros_like(R), where=C!=0)}\n",
    "\n",
    "\n",
    "Степінь (C ** Z):\n",
    "{C ** Z}\n",
    "\n",
    "\n",
    "Порівняння (R > 0.5):\n",
    "{R > 0.5}\n",
    "\n",
    "\n",
    "Ділення на 0 (O / Z):\n",
    "{np.divide(O, Z, out=np.zeros_like(O), where=Z!=0)}\n",
    "\n",
    "\"\"\")\n",
    "\n",
    "# Завдання:\n",
    "# 1. Створення матриці eye та перевірка наявності 1.\n",
    "E = np.eye(3)\n",
    "print(f\"Матриця eye:\\n{E}\")\n",
    "print(f\"Чи є елементи рівними 1:\\n{E == 1}\")\n",
    "\n",
    "# 2. Віднімання матриць ones та eye\n",
    "ones_matrix = np.ones((3, 3))\n",
    "result_matrix = ones_matrix - E\n",
    "print(f\"Матриця ones:\\n{ones_matrix}\")\n",
    "print(f\"Результат (ones - eye):\\n{result_matrix}\")\n",
    "print(\"Як бачимо, центральна діагональ має нулі.\")\n"
   ]
  },
  {
   "cell_type": "markdown",
   "metadata": {},
   "source": [
    "# Множення матриць"
   ]
  },
  {
   "cell_type": "code",
   "execution_count": 24,
   "metadata": {},
   "outputs": [
    {
     "name": "stdout",
     "output_type": "stream",
     "text": [
      "\n",
      "Перетворення масивів A і B на об'єкти класу матриць за допомогою np.asmatrix та їх множення:\n",
      "[[ 2  0 -2]\n",
      " [ 6  4  2]\n",
      " [ 9  6  3]]\n",
      "Пояснення: З np.asmatrix масиви A і B перетворюються на матричний формат,\n",
      "а оператор * виконує матричне множення.\n",
      "\n"
     ]
    }
   ],
   "source": [
    "\n",
    "\n",
    "# Початкові матриці\n",
    "A = np.array([[1, 2, 3], [2, 2, 2], [3, 3, 3]])\n",
    "B = np.array([[3, 2, 1], [1, 2, 3], [-1, -2, -3]])\n",
    "\n",
    "# Множення як матриці\n",
    "MA = np.asmatrix(A)  # Заміна np.mat на np.asmatrix\n",
    "MB = np.asmatrix(B)\n",
    "\n",
    "R = MA * MB\n",
    "print(f\"\"\"\n",
    "Перетворення масивів A і B на об'єкти класу матриць за допомогою np.asmatrix та їх множення:\n",
    "{R}\n",
    "Пояснення: З np.asmatrix масиви A і B перетворюються на матричний формат,\n",
    "а оператор * виконує матричне множення.\n",
    "\"\"\")\n"
   ]
  },
  {
   "cell_type": "markdown",
   "metadata": {},
   "source": [
    "# Вирівнювання розмірностей"
   ]
  },
  {
   "cell_type": "code",
   "execution_count": 26,
   "metadata": {},
   "outputs": [
    {
     "name": "stdout",
     "output_type": "stream",
     "text": [
      "Вектор В є рядком (3,): [1 2 3] тому додавання буде по рядках:\n",
      " [[12 14 16]\n",
      " [22 24 26]\n",
      " [32 34 36]]\n",
      "Вектор C є стовпцем (3, 1):\n",
      "[[1]\n",
      " [2]\n",
      " [3]]\n",
      "тому додавання буде по стовпцям:\n",
      "[[12 13 14]\n",
      " [23 24 25]\n",
      " [34 35 36]]\n",
      "У випадку додавання рядка до стовпця буде матриця в якої доповнюються рядки і стовпці:\n",
      " [[2 3 4]\n",
      " [3 4 5]\n",
      " [4 5 6]]\n"
     ]
    }
   ],
   "source": [
    "A = np.array([ [11, 12, 13], [21, 22, 23], [31, 32, 33] ])\n",
    "B = np.array([1, 2, 3])\n",
    "C = B[:, np.newaxis]\n",
    "\n",
    "print(f\"Вектор В є рядком {B.shape}: {B} тому додавання буде по рядках:\\n {A + B}\")\n",
    "\n",
    "print(f\"\"\"Вектор C є стовпцем {C.shape}:\n",
    "{C}\n",
    "тому додавання буде по стовпцям:\n",
    "{A + C}\"\"\")\n",
    "\n",
    "print(f\"У випадку додавання рядка до стовпця буде матриця в якої доповнюються рядки і стовпці:\\n {B + C}\")"
   ]
  },
  {
   "cell_type": "markdown",
   "metadata": {},
   "source": [
    "# Конкатенація, повторення та зміна форми (shape)"
   ]
  },
  {
   "cell_type": "code",
   "execution_count": null,
   "metadata": {},
   "outputs": [],
   "source": []
  }
 ],
 "metadata": {
  "kernelspec": {
   "display_name": "Python 3",
   "language": "python",
   "name": "python3"
  },
  "language_info": {
   "codemirror_mode": {
    "name": "ipython",
    "version": 3
   },
   "file_extension": ".py",
   "mimetype": "text/x-python",
   "name": "python",
   "nbconvert_exporter": "python",
   "pygments_lexer": "ipython3",
   "version": "3.11.9"
  }
 },
 "nbformat": 4,
 "nbformat_minor": 2
}
