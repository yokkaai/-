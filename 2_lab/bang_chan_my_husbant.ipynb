{
 "cells": [
  {
   "cell_type": "markdown",
   "metadata": {},
   "source": [
    "#Я повторюю класну роботу, бо там в описі шось всьо дуже важко (тут хотіла поставити смайлик, \n",
    "але воно йде тільки в рідмі ㅠㅠ)"
   ]
  },
  {
   "cell_type": "code",
   "execution_count": 8,
   "metadata": {},
   "outputs": [
    {
     "name": "stdout",
     "output_type": "stream",
     "text": [
      "то є змінна а то є змінна б\n",
      "<class 'str'>\n",
      "тут має бути змінна ай ноу ю ноу ві нов лі ноу , тобі виб'є помилку по ми її перед тим видалили\n"
     ]
    }
   ],
   "source": [
    "a = \"то є змінна а\"\n",
    "\n",
    "b = \"то є змінна б\"\n",
    "\n",
    "print(a,b)\n",
    "\n",
    "i_know_you_know_we_know_lee_know = \"якась дуже довга змінна\"\n",
    "\n",
    "t = type(i_know_you_know_we_know_lee_know) \n",
    "\n",
    "print(t) \n",
    "\n",
    "del i_know_you_know_we_know_lee_know #я вже встигла пожаліти за назву змінної, добре шо можна копіювати\n",
    "\n",
    "print(\"тут має бути змінна ай ноу ю ноу ві нов лі ноу , тобі виб'є помилку по ми її перед тим видалили\")"
   ]
  },
  {
   "cell_type": "markdown",
   "metadata": {},
   "source": [
    "## от текст помилки\n",
    "```\n",
    "---------------------------------------------------------------------------\n",
    "NameError                                 Traceback (most recent call last)\n",
    "Cell In[9], line 15\n",
    "     11 print(t) \n",
    "     13 del i_know_you_know_we_know_lee_know #я вже встигла пожаліти за назву змінної, добре шо можна копіювати\n",
    "---> 15 print(i_know_you_know_we_know_lee_know)\n",
    "\n",
    "NameError: name 'i_know_you_know_we_know_lee_know' is not defined\n",
    "```"
   ]
  },
  {
   "cell_type": "markdown",
   "metadata": {},
   "source": []
  },
  {
   "cell_type": "code",
   "execution_count": 56,
   "metadata": {},
   "outputs": [
    {
     "name": "stdout",
     "output_type": "stream",
     "text": [
      "43.08 <class 'float'>\n",
      "3.0 <class 'float'>\n"
     ]
    }
   ],
   "source": [
    "\n",
    "_ = 43.08       # така штука _ працює як зімнна але нахіба її використовувати, не зрозуміло, тому не використовуєм\n",
    "print(_, type(_))\n",
    "\n",
    "v_p = 3.0\n",
    "print(v_p, type(v_p))"
   ]
  },
  {
   "cell_type": "code",
   "execution_count": 55,
   "metadata": {},
   "outputs": [
    {
     "data": {
      "text/plain": [
       "25"
      ]
     },
     "execution_count": 55,
     "metadata": {},
     "output_type": "execute_result"
    }
   ],
   "source": [
    "v = 18\n",
    "v # це не буде виведено як вивід комірки\n",
    "p = 25\n",
    "p # а це вже буде навіть якщо ми не задали функцію `print`"
   ]
  },
  {
   "cell_type": "markdown",
   "metadata": {},
   "source": [
    "# Втуп до арифметичних операцій\n",
    "## Додавання"
   ]
  },
  {
   "cell_type": "code",
   "execution_count": 11,
   "metadata": {},
   "outputs": [
    {
     "data": {
      "text/plain": [
       "43"
      ]
     },
     "execution_count": 11,
     "metadata": {},
     "output_type": "execute_result"
    }
   ],
   "source": [
    "v+p"
   ]
  },
  {
   "cell_type": "code",
   "execution_count": 12,
   "metadata": {},
   "outputs": [
    {
     "data": {
      "text/plain": [
       "43"
      ]
     },
     "execution_count": 12,
     "metadata": {},
     "output_type": "execute_result"
    }
   ],
   "source": [
    "j = v + p\n",
    "j"
   ]
  },
  {
   "cell_type": "code",
   "execution_count": 13,
   "metadata": {},
   "outputs": [
    {
     "name": "stdout",
     "output_type": "stream",
     "text": [
      "Результат додовання = 43\n"
     ]
    }
   ],
   "source": [
    "print(\"Результат додовання =\", v+p)"
   ]
  },
  {
   "cell_type": "code",
   "execution_count": 14,
   "metadata": {},
   "outputs": [
    {
     "name": "stdout",
     "output_type": "stream",
     "text": [
      "то є змінна ато є змінна б\n",
      "Це початок 3.0 _V_ то є змінна а Це завершення\n"
     ]
    }
   ],
   "source": [
    "print(a + b) # Це приклад КОНКАТЕНАЦІЇ \n",
    "print(\"Це початок \" + str(v_p) + \" _V_ \" + a + ' Це завершення')"
   ]
  },
  {
   "cell_type": "markdown",
   "metadata": {},
   "source": [
    "#   Я НЕ РОЗУМІЮ ЧОМУ ТУТ ПОМИЛКА\n",
    "\n",
    "\n",
    "```\n",
    "TypeError                                 Traceback (most recent call last)\n",
    "Cell In[36], line 1\n",
    "----> 1 print(a + b) # Це приклад КОНКАТЕНАЦІЇ \n",
    "      2 print(\"Це початок \" + str(v_p) + \" _V_ \" + a + ' Це завершення')\n",
    "\n",
    "TypeError: unsupported operand type(s) for +: 'int' and 'str'```"
   ]
  },
  {
   "cell_type": "markdown",
   "metadata": {},
   "source": [
    "# Тут вже почала виконувати завдання не з пар, бо мене не було , і я не можу розібратись ((\n",
    "   ### Виведіть вбудовані константи\n"
   ]
  },
  {
   "cell_type": "code",
   "execution_count": 19,
   "metadata": {},
   "outputs": [
    {
     "name": "stdout",
     "output_type": "stream",
     "text": [
      "Перша константа:  True\n",
      "І можна так робити вивід? True\n",
      "Друга константа: None\n",
      "Третя константа - значення Pi: 3.141592653589793\n"
     ]
    }
   ],
   "source": [
    "print(\"Перша константа: \", True)\n",
    "print(f\"І можна так робити вивід? {True}\")\n",
    "\n",
    "\n",
    "# Додаткові приклади з константами None та значенням Pi\n",
    "print(\"Друга константа:\", None)\n",
    "print(f\"Третя константа - значення Pi: {3.141592653589793}\")\n"
   ]
  },
  {
   "cell_type": "markdown",
   "metadata": {},
   "source": [
    "### Виведіть результат роботи вбудованих функцій"
   ]
  },
  {
   "cell_type": "code",
   "execution_count": 22,
   "metadata": {},
   "outputs": [
    {
     "name": "stdout",
     "output_type": "stream",
     "text": [
      "12.5 є рівним 12.5\n",
      "9 є рівним 9\n",
      "15.7 є приблизно рівним 16.0\n",
      "-1 є меншим значенням у [-1, 5, 7]\n",
      "7 є найбільшим значенням у [-1, 5, 7]\n"
     ]
    }
   ],
   "source": [
    "print(abs(-12.5), f\"є рівним {abs(12.5)}\")\n",
    "\n",
    "# Використання функції pow для піднесення до степеня\n",
    "print(pow(3, 2), f\"є рівним {3 ** 2}\")\n",
    "\n",
    "# Використання функції round для округлення\n",
    "print(round(15.678, 1), f\"є приблизно рівним {round(15.678, 0)}\")\n",
    "\n",
    "# Використання функції min і max для пошуку найменшого та найбільшого значення\n",
    "print(min(5, 7, -1), f\"є меншим значенням у {[-1, 5, 7]}\")\n",
    "print(max(5, 7, -1), f\"є найбільшим значенням у {[-1, 5, 7]}\")\n"
   ]
  },
  {
   "cell_type": "markdown",
   "metadata": {},
   "source": [
    "### Познайомтесь з циклами. Напишіть будь-який код який демонструє роботу циклів"
   ]
  },
  {
   "cell_type": "code",
   "execution_count": 26,
   "metadata": {},
   "outputs": [
    {
     "name": "stdout",
     "output_type": "stream",
     "text": [
      "1\n",
      "2\n",
      "3\n",
      "4\n",
      "5\n",
      "Факторіал: 120\n",
      "1 * 1 = 1\n",
      "1 * 2 = 2\n",
      "1 * 3 = 3\n",
      "\n",
      "2 * 1 = 2\n",
      "2 * 2 = 4\n",
      "2 * 3 = 6\n",
      "\n",
      "3 * 1 = 3\n",
      "3 * 2 = 6\n",
      "3 * 3 = 9\n",
      "\n"
     ]
    }
   ],
   "source": [
    "# цикл for\n",
    "\n",
    "for i in range(1, 6):\n",
    "    print(i)\n",
    "\n",
    "# Цикл while\n",
    "\n",
    "n = 5\n",
    "factorial = 1\n",
    "while n > 0:\n",
    "    factorial *= n\n",
    "    n -= 1\n",
    "print(\"Факторіал:\", factorial)\n",
    "\n",
    "# Вкладений цикл для створення таблиці множення\n",
    "\n",
    "for i in range(1, 4):\n",
    "    for j in range(1, 4):\n",
    "        print(f\"{i} * {j} = {i * j}\")\n",
    "    print()  # Розділювач для кожного блоку таблиці\n"
   ]
  },
  {
   "cell_type": "markdown",
   "metadata": {},
   "source": [
    "### познайомтесь з розгалуженнями. Напишіть будь-який код який демонструє роботу розгалужень"
   ]
  },
  {
   "cell_type": "code",
   "execution_count": 32,
   "metadata": {},
   "outputs": [
    {
     "name": "stdout",
     "output_type": "stream",
     "text": [
      "Число додатне\n",
      "Число парне\n",
      "Добре\n"
     ]
    }
   ],
   "source": [
    "# Умовне розгалуження if-else\n",
    "\n",
    "number = 5\n",
    "\n",
    "if number > 0:\n",
    "    print(\"Число додатне\")\n",
    "elif number < 0:\n",
    "    print(\"Число від'ємне\")\n",
    "else:\n",
    "    print(\"Число дорівнює нулю\")\n",
    "\n",
    "    # Перевірка на парність за допомогою if-else\n",
    "number = 8\n",
    "\n",
    "if number % 2 == 0:\n",
    "    print(\"Число парне\")\n",
    "else:\n",
    "    print(\"Число непарне\")\n",
    "\n",
    "    #Розгалуження if-elif-else\n",
    "\n",
    "\n",
    "score = 85\n",
    "\n",
    "if score >= 90:\n",
    "    print(\"Відмінно\")\n",
    "elif score >= 70:\n",
    "    print(\"Добре\")\n",
    "elif score >= 50:\n",
    "    print(\"Задовільно\")\n",
    "else:\n",
    "    print(\"Незадовільно\")"
   ]
  },
  {
   "cell_type": "markdown",
   "metadata": {},
   "source": [
    "### Конструкція try->except->finally. У мові Python код не компілюється, а виконується відразу. Можливі помилки нам треба виловлювати самим. Напишіть свій варіант коду з помилкою."
   ]
  },
  {
   "cell_type": "code",
   "execution_count": 33,
   "metadata": {},
   "outputs": [
    {
     "name": "stdout",
     "output_type": "stream",
     "text": [
      "Помилка: ділення на нуль неможливе.\n",
      "Завершення програми, незалежно від наявності помилок.\n"
     ]
    }
   ],
   "source": [
    "try:\n",
    "    result = 10 / 0\n",
    "    print(\"Результат:\", result)\n",
    "\n",
    "except ZeroDivisionError:\n",
    "    print(\"Помилка: ділення на нуль неможливе.\")\n",
    "\n",
    "finally:\n",
    "    print(\"Завершення програми, незалежно від наявності помилок.\")\n"
   ]
  },
  {
   "cell_type": "markdown",
   "metadata": {},
   "source": [
    "### Контекст-менеджер with. Можете почитати тут. Напишіть свій код з контекст-менеджером"
   ]
  },
  {
   "cell_type": "code",
   "execution_count": 43,
   "metadata": {},
   "outputs": [
    {
     "name": "stdout",
     "output_type": "stream",
     "text": [
      "Привіт, світ!\n",
      "Привіт!\n",
      "Ми в середині блоку.\n",
      "До побачення!\n"
     ]
    }
   ],
   "source": [
    "\n",
    "\n",
    "with open(\"example.txt\", \"r\") as file:\n",
    "    content = file.read()\n",
    "    print(content)\n",
    "\n",
    "\n",
    "with open(\"example.txt\", \"w\") as file:\n",
    "    file.write(\"Привіт, світ!\")\n",
    "\n",
    "\n",
    "class Greeting:\n",
    "    def __enter__(self):\n",
    "        print(\"Привіт!\")\n",
    "    \n",
    "    def __exit__(self, exc_type, exc_value, traceback):\n",
    "        print(\"До побачення!\")\n",
    "\n",
    "with Greeting():\n",
    "    print(\"Ми в середині блоку.\")\n"
   ]
  },
  {
   "cell_type": "markdown",
   "metadata": {},
   "source": [
    "### Познайомтесь з Python lambdas. Напишіть свій приклад коду та як Ви розумієте Лямбди"
   ]
  },
  {
   "cell_type": "code",
   "execution_count": 44,
   "metadata": {},
   "outputs": [
    {
     "name": "stdout",
     "output_type": "stream",
     "text": [
      "Квадрат числа 5: 25\n"
     ]
    }
   ],
   "source": [
    "\n",
    "square = lambda x: x ** 2\n",
    "print(\"Квадрат числа 5:\", square(5))\n"
   ]
  },
  {
   "cell_type": "markdown",
   "metadata": {},
   "source": [
    "# Chat GPT answers"
   ]
  },
  {
   "cell_type": "code",
   "execution_count": 53,
   "metadata": {},
   "outputs": [
    {
     "name": "stdout",
     "output_type": "stream",
     "text": [
      "Ім'я: Анна <class 'str'>\n",
      "Вік: 25 <class 'int'>\n",
      "Зріст: 1.75 <class 'float'>\n",
      "Студент: True <class 'bool'>\n"
     ]
    }
   ],
   "source": [
    "# Оголошення змінних різних типів\n",
    "name = \"Анна\"          # рядок\n",
    "age = 25               # ціле число\n",
    "height = 1.75          # дійсне число (float)\n",
    "is_student = True      # булеве значення\n",
    "\n",
    "# Виведення типів даних\n",
    "print(\"Ім'я:\", name, type(name))\n",
    "print(\"Вік:\", age, type(age))\n",
    "print(\"Зріст:\", height, type(height))\n",
    "print(\"Студент:\", is_student, type(is_student))\n"
   ]
  },
  {
   "cell_type": "code",
   "execution_count": 52,
   "metadata": {},
   "outputs": [
    {
     "name": "stdout",
     "output_type": "stream",
     "text": [
      "Доступ дозволено\n"
     ]
    }
   ],
   "source": [
    "age = 20\n",
    "\n",
    "if age >= 18:\n",
    "    print(\"Доступ дозволено\")\n",
    "else:\n",
    "    print(\"Доступ заборонено\")\n"
   ]
  },
  {
   "cell_type": "code",
   "execution_count": 54,
   "metadata": {},
   "outputs": [
    {
     "name": "stdout",
     "output_type": "stream",
     "text": [
      "Число: 1\n",
      "Число: 2\n",
      "Число: 3\n",
      "Число: 4\n",
      "Число: 5\n"
     ]
    }
   ],
   "source": [
    "for i in range(1, 6):\n",
    "    print(f\"Число: {i}\")\n"
   ]
  },
  {
   "cell_type": "code",
   "execution_count": 51,
   "metadata": {},
   "outputs": [
    {
     "name": "stdout",
     "output_type": "stream",
     "text": [
      "Лічильник: 1\n",
      "Лічильник: 2\n",
      "Лічильник: 3\n",
      "Лічильник: 4\n",
      "Лічильник: 5\n"
     ]
    }
   ],
   "source": [
    "count = 1\n",
    "while count <= 5:\n",
    "    print(f\"Лічильник: {count}\")\n",
    "    count += 1\n"
   ]
  },
  {
   "cell_type": "code",
   "execution_count": 49,
   "metadata": {},
   "outputs": [
    {
     "name": "stdout",
     "output_type": "stream",
     "text": [
      "Привіт, Світлана!\n"
     ]
    }
   ],
   "source": [
    "def greet(name):\n",
    "    return f\"Привіт, {name}!\"\n",
    "\n",
    "print(greet(\"Світлана\"))\n"
   ]
  },
  {
   "cell_type": "code",
   "execution_count": 47,
   "metadata": {},
   "outputs": [
    {
     "name": "stdout",
     "output_type": "stream",
     "text": [
      "['яблуко', 'банан', 'вишня', 'апельсин']\n"
     ]
    }
   ],
   "source": [
    "fruits = [\"яблуко\", \"банан\", \"вишня\"]\n",
    "fruits.append(\"апельсин\")  # додаємо елемент до списку\n",
    "print(fruits)\n"
   ]
  },
  {
   "cell_type": "code",
   "execution_count": 46,
   "metadata": {},
   "outputs": [
    {
     "name": "stdout",
     "output_type": "stream",
     "text": [
      "Іван\n"
     ]
    }
   ],
   "source": [
    "person = {\n",
    "    \"ім'я\": \"Іван\",\n",
    "    \"вік\": 30,\n",
    "    \"місто\": \"Київ\"\n",
    "}\n",
    "print(person[\"ім'я\"])\n"
   ]
  },
  {
   "cell_type": "code",
   "execution_count": 45,
   "metadata": {},
   "outputs": [
    {
     "name": "stdout",
     "output_type": "stream",
     "text": [
      "[1, 4, 9, 16, 25]\n"
     ]
    }
   ],
   "source": [
    "# Використання лямбда-функції для підрахунку квадратів чисел у списку\n",
    "numbers = [1, 2, 3, 4, 5]\n",
    "squares = list(map(lambda x: x ** 2, numbers))\n",
    "print(squares)\n"
   ]
  }
 ],
 "metadata": {
  "kernelspec": {
   "display_name": "Python 3",
   "language": "python",
   "name": "python3"
  },
  "language_info": {
   "codemirror_mode": {
    "name": "ipython",
    "version": 3
   },
   "file_extension": ".py",
   "mimetype": "text/x-python",
   "name": "python",
   "nbconvert_exporter": "python",
   "pygments_lexer": "ipython3",
   "version": "3.11.9"
  }
 },
 "nbformat": 4,
 "nbformat_minor": 2
}
