{
 "cells": [
  {
   "cell_type": "markdown",
   "metadata": {},
   "source": [
    "#Я повторюю класну роботу, бо там в описі шось всьо дуже важко (тут хотіла поставити смайлик, \n",
    "але воно йде тільки в рідмі ㅠㅠ)"
   ]
  },
  {
   "cell_type": "code",
   "execution_count": 15,
   "metadata": {},
   "outputs": [
    {
     "name": "stdout",
     "output_type": "stream",
     "text": [
      "то є змінна а то є змінна б\n",
      "<class 'str'>\n",
      "тут має бути змінна ай ноу ю ноу ві нов лі ноу , тобі виб'є помилку по ми її перед тим видалили\n"
     ]
    }
   ],
   "source": [
    "a = \"то є змінна а\"\n",
    "\n",
    "b = \"то є змінна б\"\n",
    "\n",
    "print(a,b)\n",
    "\n",
    "i_know_you_know_we_know_lee_know = \"якась дуже довга змінна\"\n",
    "\n",
    "t = type(i_know_you_know_we_know_lee_know) \n",
    "\n",
    "print(t) \n",
    "\n",
    "del i_know_you_know_we_know_lee_know #я вже встигла пожаліти за назву змінної, добре шо можна копіювати\n",
    "\n",
    "print(\"тут має бути змінна ай ноу ю ноу ві нов лі ноу , тобі виб'є помилку по ми її перед тим видалили\")"
   ]
  },
  {
   "cell_type": "markdown",
   "metadata": {},
   "source": [
    "## от текст помилки\n",
    "```\n",
    "---------------------------------------------------------------------------\n",
    "NameError                                 Traceback (most recent call last)\n",
    "Cell In[9], line 15\n",
    "     11 print(t) \n",
    "     13 del i_know_you_know_we_know_lee_know #я вже встигла пожаліти за назву змінної, добре шо можна копіювати\n",
    "---> 15 print(i_know_you_know_we_know_lee_know)\n",
    "\n",
    "NameError: name 'i_know_you_know_we_know_lee_know' is not defined\n",
    "```"
   ]
  },
  {
   "cell_type": "markdown",
   "metadata": {},
   "source": []
  },
  {
   "cell_type": "code",
   "execution_count": 16,
   "metadata": {},
   "outputs": [
    {
     "name": "stdout",
     "output_type": "stream",
     "text": [
      "43.08 <class 'float'>\n",
      "3.0 <class 'float'>\n"
     ]
    }
   ],
   "source": [
    "\n",
    "_ = 43.08       # така штука _ працює як зімнна але нахіба її використовувати, не зрозуміло, тому не використовуєм\n",
    "print(_, type(_))\n",
    "\n",
    "v_p = 3.0\n",
    "print(v_p, type(v_p))"
   ]
  },
  {
   "cell_type": "code",
   "execution_count": 17,
   "metadata": {},
   "outputs": [
    {
     "data": {
      "text/plain": [
       "25"
      ]
     },
     "execution_count": 17,
     "metadata": {},
     "output_type": "execute_result"
    }
   ],
   "source": [
    "v = 18\n",
    "v # це не буде виведено як вивід комірки\n",
    "p = 25\n",
    "p # а це вже буде навіть якщо ми не задали функцію `print`"
   ]
  },
  {
   "cell_type": "markdown",
   "metadata": {},
   "source": [
    "# Втуп до арифметичних операцій\n",
    "## Додавання"
   ]
  },
  {
   "cell_type": "code",
   "execution_count": 21,
   "metadata": {},
   "outputs": [
    {
     "data": {
      "text/plain": [
       "43"
      ]
     },
     "execution_count": 21,
     "metadata": {},
     "output_type": "execute_result"
    }
   ],
   "source": [
    "v+p"
   ]
  },
  {
   "cell_type": "code",
   "execution_count": 31,
   "metadata": {},
   "outputs": [
    {
     "data": {
      "text/plain": [
       "43"
      ]
     },
     "execution_count": 31,
     "metadata": {},
     "output_type": "execute_result"
    }
   ],
   "source": [
    "j = v + p\n",
    "j"
   ]
  },
  {
   "cell_type": "code",
   "execution_count": 23,
   "metadata": {},
   "outputs": [
    {
     "name": "stdout",
     "output_type": "stream",
     "text": [
      "Результат додовання = 43\n"
     ]
    }
   ],
   "source": [
    "print(\"Результат додовання =\", v+p)"
   ]
  },
  {
   "cell_type": "code",
   "execution_count": 36,
   "metadata": {},
   "outputs": [
    {
     "ename": "TypeError",
     "evalue": "unsupported operand type(s) for +: 'int' and 'str'",
     "output_type": "error",
     "traceback": [
      "\u001b[1;31m---------------------------------------------------------------------------\u001b[0m",
      "\u001b[1;31mTypeError\u001b[0m                                 Traceback (most recent call last)",
      "Cell \u001b[1;32mIn[36], line 1\u001b[0m\n\u001b[1;32m----> 1\u001b[0m \u001b[38;5;28mprint\u001b[39m(\u001b[43ma\u001b[49m\u001b[43m \u001b[49m\u001b[38;5;241;43m+\u001b[39;49m\u001b[43m \u001b[49m\u001b[43mb\u001b[49m) \u001b[38;5;66;03m# Це приклад КОНКАТЕНАЦІЇ \u001b[39;00m\n\u001b[0;32m      2\u001b[0m \u001b[38;5;28mprint\u001b[39m(\u001b[38;5;124m\"\u001b[39m\u001b[38;5;124mЦе початок \u001b[39m\u001b[38;5;124m\"\u001b[39m \u001b[38;5;241m+\u001b[39m \u001b[38;5;28mstr\u001b[39m(v_p) \u001b[38;5;241m+\u001b[39m \u001b[38;5;124m\"\u001b[39m\u001b[38;5;124m _V_ \u001b[39m\u001b[38;5;124m\"\u001b[39m \u001b[38;5;241m+\u001b[39m a \u001b[38;5;241m+\u001b[39m \u001b[38;5;124m'\u001b[39m\u001b[38;5;124m Це завершення\u001b[39m\u001b[38;5;124m'\u001b[39m)\n",
      "\u001b[1;31mTypeError\u001b[0m: unsupported operand type(s) for +: 'int' and 'str'"
     ]
    }
   ],
   "source": [
    "print(a + b) # Це приклад КОНКАТЕНАЦІЇ \n",
    "print(\"Це початок \" + str(v_p) + \" _V_ \" + a + ' Це завершення')"
   ]
  },
  {
   "cell_type": "markdown",
   "metadata": {},
   "source": [
    "#   Я НЕ РОЗУМІЮ ЧОМУ ТУТ ПОМИЛКА\n",
    "\n",
    "\n",
    "```\n",
    "TypeError                                 Traceback (most recent call last)\n",
    "Cell In[36], line 1\n",
    "----> 1 print(a + b) # Це приклад КОНКАТЕНАЦІЇ \n",
    "      2 print(\"Це початок \" + str(v_p) + \" _V_ \" + a + ' Це завершення')\n",
    "\n",
    "TypeError: unsupported operand type(s) for +: 'int' and 'str'```"
   ]
  }
 ],
 "metadata": {
  "kernelspec": {
   "display_name": "Python 3",
   "language": "python",
   "name": "python3"
  },
  "language_info": {
   "codemirror_mode": {
    "name": "ipython",
    "version": 3
   },
   "file_extension": ".py",
   "mimetype": "text/x-python",
   "name": "python",
   "nbconvert_exporter": "python",
   "pygments_lexer": "ipython3",
   "version": "3.11.9"
  }
 },
 "nbformat": 4,
 "nbformat_minor": 2
}
